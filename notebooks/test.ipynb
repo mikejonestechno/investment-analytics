{
 "cells": [
  {
   "cell_type": "markdown",
   "id": "5d08bdbb",
   "metadata": {
    "tags": []
   },
   "source": [
    "---\n",
    "layout: page\n",
    "title: Notebook Test\n",
    "---"
   ]
  },
  {
   "cell_type": "code",
   "execution_count": 1,
   "id": "d3822f4f-c72b-4641-b25b-12407a527dc2",
   "metadata": {},
   "outputs": [],
   "source": [
    "\"\"\" import library and package dependencies \"\"\"\n",
    "import sys\n",
    "sys.path.insert(0, '../src')\n",
    "import os\n",
    "import datetime\n",
    "import pytz\n",
    "from collections import namedtuple\n",
    "from urllib.parse import quote\n",
    "import pandas as pd\n",
    "import numpy as np\n",
    "import matplotlib.pyplot as plt\n",
    "import matplotlib.ticker as ticker\n",
    "import matplotlib.dates as mdates\n",
    "from IPython.display import display, Markdown\n",
    "\n",
    "from data_loader import load_data, is_file_stale, get_file_hash\n",
    "from chart_format import StandardChart, LogChart, PercentileChart"
   ]
  },
  {
   "cell_type": "code",
   "execution_count": null,
   "id": "4cf4b707",
   "metadata": {},
   "outputs": [],
   "source": [
    "\"\"\" Load data\n",
    "SPX ticker symbol is ^GSPC on Yahoo Finance \n",
    "\"\"\"\n",
    "sx_symbol = 'SPX'\n",
    "sx_symbol_uri = '^GSPC'\n",
    "sx_tz = pytz.timezone('America/New_York')\n",
    "\n",
    "from_date = datetime.datetime(1960, 1, 1) \n",
    "from_date = sx_tz.localize(from_date)\n",
    "\n",
    "to_date = datetime.datetime.now().replace(hour=0, minute=0, second=0, microsecond=0)\n",
    "to_date = sx_tz.localize(to_date)\n",
    "\n",
    "csv_url = 'https://query1.finance.yahoo.com/v7/finance/download/'+ quote(sx_symbol_uri.upper()) +'?period1=' + str(int(from_date.timestamp())) + '&period2=' + str(int(to_date.timestamp())) + '&interval=1d&events=history&includeAdjustedClose=true'\n",
    "local_file = f'../data/{sx_symbol.lower()}_HistoricalData.csv'\n",
    "max_age_days = 7\n",
    "\n",
    "\"\"\" df = load_data(csv_url, local_file, max_age_days) \"\"\""
   ]
  },
  {
   "cell_type": "code",
   "execution_count": null,
   "id": "a252988c",
   "metadata": {},
   "outputs": [],
   "source": [
    "publish_date = datetime.datetime.now() - datetime.timedelta(days=max_age_days)\n",
    "print(f'Publish date: {publish_date.strftime(\"%Y-%m-%d %H:%M:%S\")}')\n",
    "print(publish_date.timestamp())\n",
    "print(local_file)\n",
    "#print(get_file_hash(local_file))\n",
    "#print(os.path.getmtime(local_file))\n",
    "#is_stale_file = is_file_stale(local_file, publish_date)\n",
    "#print(f'is_stale_file: {is_stale_file}')\n",
    "#print(os.path.getmtime(local_file))"
   ]
  }
 ],
 "metadata": {
  "kernelspec": {
   "display_name": "Python 3 (ipykernel)",
   "language": "python",
   "name": "python3"
  },
  "language_info": {
   "codemirror_mode": {
    "name": "ipython",
    "version": 3
   },
   "file_extension": ".py",
   "mimetype": "text/x-python",
   "name": "python",
   "nbconvert_exporter": "python",
   "pygments_lexer": "ipython3",
   "version": "3.11.5"
  }
 },
 "nbformat": 4,
 "nbformat_minor": 5
}
