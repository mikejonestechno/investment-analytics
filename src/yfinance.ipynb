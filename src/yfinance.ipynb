{
 "cells": [
  {
   "cell_type": "code",
   "execution_count": 12,
   "metadata": {},
   "outputs": [
    {
     "ename": "ModuleNotFoundError",
     "evalue": "No module named 'requests_cache'",
     "output_type": "error",
     "traceback": [
      "\u001b[0;31m---------------------------------------------------------------------------\u001b[0m",
      "\u001b[0;31mModuleNotFoundError\u001b[0m                       Traceback (most recent call last)",
      "Cell \u001b[0;32mIn[12], line 2\u001b[0m\n\u001b[1;32m      1\u001b[0m \u001b[38;5;28;01mimport\u001b[39;00m \u001b[38;5;21;01myfinance\u001b[39;00m \u001b[38;5;28;01mas\u001b[39;00m \u001b[38;5;21;01myf\u001b[39;00m\n\u001b[0;32m----> 2\u001b[0m \u001b[38;5;28;01mimport\u001b[39;00m \u001b[38;5;21;01mrequests_cache\u001b[39;00m\n\u001b[1;32m      3\u001b[0m \u001b[38;5;28;01mfrom\u001b[39;00m \u001b[38;5;21;01mpandas_datareader\u001b[39;00m \u001b[38;5;28;01mimport\u001b[39;00m data \u001b[38;5;28;01mas\u001b[39;00m pdr\n\u001b[1;32m      4\u001b[0m \u001b[38;5;28;01mfrom\u001b[39;00m \u001b[38;5;21;01mrequests\u001b[39;00m \u001b[38;5;28;01mimport\u001b[39;00m Session\n",
      "\u001b[0;31mModuleNotFoundError\u001b[0m: No module named 'requests_cache'"
     ]
    }
   ],
   "source": [
    "import yfinance as yf\n",
    "import requests_cache\n",
    "from pandas_datareader import data as pdr\n",
    "from requests import Session\n",
    "from requests_cache import CacheMixin, SQLiteCache\n",
    "from requests_ratelimiter import LimiterMixin, MemoryQueueBucket\n",
    "from pyrate_limiter import Duration, RequestRate, Limiter\n",
    "\"\"\" \n",
    "https://pypi.org/project/yfinance/#installation\n",
    "https://github.com/ranaroussi/yfinance/wiki/Ticker  # wiki\n",
    "\"\"\""
   ]
  },
  {
   "cell_type": "code",
   "execution_count": 7,
   "metadata": {},
   "outputs": [
    {
     "data": {
      "text/plain": [
       "{'maxAge': 86400,\n",
       " 'priceHint': 2,\n",
       " 'previousClose': 4739.21,\n",
       " 'open': 4760.1,\n",
       " 'dayLow': 4740.57,\n",
       " 'dayHigh': 4785.79,\n",
       " 'regularMarketPreviousClose': 4739.21,\n",
       " 'regularMarketOpen': 4760.1,\n",
       " 'regularMarketDayLow': 4740.57,\n",
       " 'regularMarketDayHigh': 4785.79,\n",
       " 'volume': 2591426000,\n",
       " 'regularMarketVolume': 2591426000,\n",
       " 'averageVolume': 3932131803,\n",
       " 'averageVolume10days': 3771695000,\n",
       " 'averageDailyVolume10Day': 3771695000,\n",
       " 'bid': 4731.2,\n",
       " 'ask': 4836.96,\n",
       " 'fiftyTwoWeekLow': 3808.86,\n",
       " 'fiftyTwoWeekHigh': 4802.4,\n",
       " 'fiftyDayAverage': 4620.2607,\n",
       " 'twoHundredDayAverage': 4396.2197,\n",
       " 'currency': 'USD',\n",
       " 'exchange': 'SNP',\n",
       " 'quoteType': 'INDEX',\n",
       " 'symbol': '^GSPC',\n",
       " 'underlyingSymbol': '^GSPC',\n",
       " 'shortName': 'S&P 500',\n",
       " 'longName': 'S&P 500',\n",
       " 'firstTradeDateEpochUtc': -1325583000,\n",
       " 'timeZoneFullName': 'America/New_York',\n",
       " 'timeZoneShortName': 'EST',\n",
       " 'uuid': '8ffd55d1-3d1d-3733-a480-56768bc708e6',\n",
       " 'messageBoardId': 'finmb_INDEXGSPC',\n",
       " 'gmtOffSetMilliseconds': -18000000,\n",
       " 'trailingPegRatio': None}"
      ]
     },
     "execution_count": 7,
     "metadata": {},
     "output_type": "execute_result"
    }
   ],
   "source": [
    "ticker = yf.Ticker(\"^GSPC\")\n"
   ]
  },
  {
   "cell_type": "code",
   "execution_count": 10,
   "metadata": {},
   "outputs": [],
   "source": [
    "df = ticker.history(period=\"1mo\", interval=\"1d\", actions=True)"
   ]
  },
  {
   "cell_type": "code",
   "execution_count": 11,
   "metadata": {},
   "outputs": [
    {
     "data": {
      "text/html": [
       "<div>\n",
       "<style scoped>\n",
       "    .dataframe tbody tr th:only-of-type {\n",
       "        vertical-align: middle;\n",
       "    }\n",
       "\n",
       "    .dataframe tbody tr th {\n",
       "        vertical-align: top;\n",
       "    }\n",
       "\n",
       "    .dataframe thead th {\n",
       "        text-align: right;\n",
       "    }\n",
       "</style>\n",
       "<table border=\"1\" class=\"dataframe\">\n",
       "  <thead>\n",
       "    <tr style=\"text-align: right;\">\n",
       "      <th></th>\n",
       "      <th>Open</th>\n",
       "      <th>High</th>\n",
       "      <th>Low</th>\n",
       "      <th>Close</th>\n",
       "      <th>Volume</th>\n",
       "      <th>Dividends</th>\n",
       "      <th>Stock Splits</th>\n",
       "    </tr>\n",
       "    <tr>\n",
       "      <th>Date</th>\n",
       "      <th></th>\n",
       "      <th></th>\n",
       "      <th></th>\n",
       "      <th></th>\n",
       "      <th></th>\n",
       "      <th></th>\n",
       "      <th></th>\n",
       "    </tr>\n",
       "  </thead>\n",
       "  <tbody>\n",
       "    <tr>\n",
       "      <th>2024-01-11 00:00:00-05:00</th>\n",
       "      <td>4792.129883</td>\n",
       "      <td>4798.500000</td>\n",
       "      <td>4739.580078</td>\n",
       "      <td>4780.240234</td>\n",
       "      <td>3759890000</td>\n",
       "      <td>0.0</td>\n",
       "      <td>0.0</td>\n",
       "    </tr>\n",
       "    <tr>\n",
       "      <th>2024-01-12 00:00:00-05:00</th>\n",
       "      <td>4791.180176</td>\n",
       "      <td>4802.399902</td>\n",
       "      <td>4768.979980</td>\n",
       "      <td>4783.830078</td>\n",
       "      <td>3486340000</td>\n",
       "      <td>0.0</td>\n",
       "      <td>0.0</td>\n",
       "    </tr>\n",
       "    <tr>\n",
       "      <th>2024-01-16 00:00:00-05:00</th>\n",
       "      <td>4772.350098</td>\n",
       "      <td>4782.339844</td>\n",
       "      <td>4747.120117</td>\n",
       "      <td>4765.979980</td>\n",
       "      <td>4260550000</td>\n",
       "      <td>0.0</td>\n",
       "      <td>0.0</td>\n",
       "    </tr>\n",
       "    <tr>\n",
       "      <th>2024-01-17 00:00:00-05:00</th>\n",
       "      <td>4739.129883</td>\n",
       "      <td>4744.229980</td>\n",
       "      <td>4714.819824</td>\n",
       "      <td>4739.209961</td>\n",
       "      <td>3928600000</td>\n",
       "      <td>0.0</td>\n",
       "      <td>0.0</td>\n",
       "    </tr>\n",
       "    <tr>\n",
       "      <th>2024-01-18 00:00:00-05:00</th>\n",
       "      <td>4760.100098</td>\n",
       "      <td>4785.790039</td>\n",
       "      <td>4740.569824</td>\n",
       "      <td>4780.939941</td>\n",
       "      <td>2591426000</td>\n",
       "      <td>0.0</td>\n",
       "      <td>0.0</td>\n",
       "    </tr>\n",
       "  </tbody>\n",
       "</table>\n",
       "</div>"
      ],
      "text/plain": [
       "                                  Open         High          Low        Close  \\\n",
       "Date                                                                            \n",
       "2024-01-11 00:00:00-05:00  4792.129883  4798.500000  4739.580078  4780.240234   \n",
       "2024-01-12 00:00:00-05:00  4791.180176  4802.399902  4768.979980  4783.830078   \n",
       "2024-01-16 00:00:00-05:00  4772.350098  4782.339844  4747.120117  4765.979980   \n",
       "2024-01-17 00:00:00-05:00  4739.129883  4744.229980  4714.819824  4739.209961   \n",
       "2024-01-18 00:00:00-05:00  4760.100098  4785.790039  4740.569824  4780.939941   \n",
       "\n",
       "                               Volume  Dividends  Stock Splits  \n",
       "Date                                                            \n",
       "2024-01-11 00:00:00-05:00  3759890000        0.0           0.0  \n",
       "2024-01-12 00:00:00-05:00  3486340000        0.0           0.0  \n",
       "2024-01-16 00:00:00-05:00  4260550000        0.0           0.0  \n",
       "2024-01-17 00:00:00-05:00  3928600000        0.0           0.0  \n",
       "2024-01-18 00:00:00-05:00  2591426000        0.0           0.0  "
      ]
     },
     "execution_count": 11,
     "metadata": {},
     "output_type": "execute_result"
    }
   ],
   "source": [
    "df.tail()"
   ]
  }
 ],
 "metadata": {
  "kernelspec": {
   "display_name": "base",
   "language": "python",
   "name": "python3"
  },
  "language_info": {
   "codemirror_mode": {
    "name": "ipython",
    "version": 3
   },
   "file_extension": ".py",
   "mimetype": "text/x-python",
   "name": "python",
   "nbconvert_exporter": "python",
   "pygments_lexer": "ipython3",
   "version": "3.11.5"
  }
 },
 "nbformat": 4,
 "nbformat_minor": 2
}
