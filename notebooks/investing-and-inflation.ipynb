{
 "cells": [
  {
   "cell_type": "markdown",
   "id": "d9913a8c",
   "metadata": {},
   "source": [
    "---\n",
    "layout: page\n",
    "title: Investing\n",
    "---"
   ]
  },
  {
   "cell_type": "code",
   "execution_count": 1,
   "id": "d3822f4f-c72b-4641-b25b-12407a527dc2",
   "metadata": {},
   "outputs": [],
   "source": [
    "\"\"\" import library and package dependencies \"\"\"\n",
    "import sys\n",
    "sys.path.insert(0, '../src')\n",
    "import os\n",
    "import datetime\n",
    "import pytz\n",
    "from collections import namedtuple\n",
    "from urllib.parse import quote\n",
    "import pandas as pd\n",
    "import numpy as np\n",
    "import matplotlib.pyplot as plt\n",
    "import matplotlib.ticker as ticker\n",
    "import matplotlib.dates as mdates\n",
    "import matplotlib.patches as mpatches\n",
    "from IPython.display import display, Markdown\n",
    "\n",
    "from data_loader import load_csv_data, get_last_publish_date\n",
    "from chart_format import StandardChart, PercentileChart"
   ]
  },
  {
   "cell_type": "markdown",
   "id": "bad86d19",
   "metadata": {},
   "source": [
    "## [S&P 500 Index](spx-prices.html)\n",
    "\n",
    "The S&P 500 Index from Standard & Poor's is a market-capitalization-weighted index tracking the 500 largest publicly traded companies in the US. \n",
    "\n",
    "The S&P 500 is widely considered one of the best gauges of overall stock market performance because of its depth and diversity, tracking the top performing companies by market capitalization.\n",
    "\n",
    "See [SPX 500 Index](spx-prices.html) for price charts, trends and analysis."
   ]
  },
  {
   "cell_type": "markdown",
   "id": "5f68b363",
   "metadata": {},
   "source": [
    "## SPX 500 Index and Inflation\n",
    "\n",
    "The Consumer Price Index that the Reserve Bank of Australia use to index inflation is published quarterly, one month after the end of each quarter.\n",
    "\n",
    "See [inflation](inflation.html) for inflation charts, trends and analysis."
   ]
  },
  {
   "cell_type": "code",
   "execution_count": 2,
   "id": "4cbf7a1c",
   "metadata": {},
   "outputs": [],
   "source": [
    "\"\"\" Load dataframes from other notebooks \"\"\"\n",
    "df_inflation = pd.DataFrame()\n",
    "df_interest = pd.DataFrame()\n",
    "df_spx = pd.DataFrame()\n",
    "%store -r df_inflation\n",
    "%store -r df_interest\n",
    "%store -r df_spx"
   ]
  }
 ],
 "metadata": {
  "kernelspec": {
   "display_name": "Python 3 (ipykernel)",
   "language": "python",
   "name": "python3"
  },
  "language_info": {
   "codemirror_mode": {
    "name": "ipython",
    "version": 3
   },
   "file_extension": ".py",
   "mimetype": "text/x-python",
   "name": "python",
   "nbconvert_exporter": "python",
   "pygments_lexer": "ipython3",
   "version": "3.11.7"
  }
 },
 "nbformat": 4,
 "nbformat_minor": 5
}
